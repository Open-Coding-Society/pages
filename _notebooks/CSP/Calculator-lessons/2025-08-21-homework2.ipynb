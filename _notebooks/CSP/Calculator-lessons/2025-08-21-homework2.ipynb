{
 "cells": [
  {
   "cell_type": "markdown",
   "id": "3268919f",
   "metadata": {},
   "source": [
    "---\n",
    "layout: post\n",
    "categories: [Calculator Lessons]\n",
    "title: Calculator Lesson - Homework 2\n",
    "permalink: /csp/calculator/homework2\n",
    "---"
   ]
  }
 ],
 "metadata": {
  "language_info": {
   "name": "python"
  }
 },
 "nbformat": 4,
 "nbformat_minor": 5
}

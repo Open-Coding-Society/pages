{
 "cells": [
  {
   "cell_type": "markdown",
   "id": "3268919f",
   "metadata": {},
   "source": [
    "---\n",
    "layout: post\n",
    "categories: [Calculator Lessons]\n",
    "title: Calculator Lesson - Hack 2\n",
    "description: Directions for hack 2 of the calculator lesson (100% hack).\n",
    "permalink: /csp/calculator/hack2\n",
    "---"
   ]
  },
  {
   "cell_type": "markdown",
   "id": "186298fa",
   "metadata": {},
   "source": [
    "## Goal\n",
    "Add a **calculation history** like [Google Chrome’s calculator](https://www.google.com/search?q=calculator) (shows recent expressions/results).\n",
    "\n",
    "### Run the starter code\n",
    "1. Start the local server by running `make` \n",
    "2. Open the hack page in your browser (http://127.0.0.1:4500/Calculator-Lesson/hack2calculator)\n",
    "\n",
    "### What you edit\n",
    "1. Open `hacks/hack2-calculator.md`\n",
    "2. Find the `<script>` with TODOS-H1...TODO-H8 comments\n",
    "3. Fill in the missing pieces\n",
    "\n",
    "### Requirements\n",
    "- Show the most recent history entries\n",
    "- Each entry format: expression = result (e.g. 12 * 3 = 36)\n",
    "- Works for chained operations and decimals\n",
    "\n",
    "### Turn in\n",
    "Submit the link to your github page with the finished code.\n",
    "\n",
    "[Google Form](https://forms.gle/Bn2PfeYUEhBruacK6)"
   ]
  }
 ],
 "metadata": {
  "language_info": {
   "name": "python"
  }
 },
 "nbformat": 4,
 "nbformat_minor": 5
}

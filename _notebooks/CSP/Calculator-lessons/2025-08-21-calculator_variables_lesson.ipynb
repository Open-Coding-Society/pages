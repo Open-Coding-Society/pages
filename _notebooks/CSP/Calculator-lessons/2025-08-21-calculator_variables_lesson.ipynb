{
 "cells": [
  {
   "cell_type": "raw",
   "metadata": {
    "vscode": {
     "languageId": "raw"
    }
   },
   "source": [
    "---\n",
    "layout: post\n",
    "categories: [Calculator Lessons]\n",
    "title: Calculator Lesson - Variables \n",
    "permalink: /csp/calculator/variables\n",
    "---"
   ]
  },
  {
   "cell_type": "markdown",
   "metadata": {},
   "source": [
    "# Variables"
   ]
  },
  {
   "cell_type": "markdown",
   "metadata": {},
   "source": [
    "# JavaScript Variables and Calculator in Jupyter Notebook\n",
    "\n",
    "---\n",
    "\n",
    "## 1. Defining Variables\n",
    "\n",
    "In JavaScript, you can define variables using **`var`**, **`let`**, or **`const`**. These are keywords that tell JavaScript how the variable should behave:\n",
    "\n",
    "- **`var`** → The old way of making variables. It is *function-scoped* (only visible inside the function it’s declared in). It can be changed and even re-declared. Today, `var` is less common because it can sometimes cause confusion.\n",
    "\n",
    "- **`let`** → The modern way to declare a variable when you expect its value to change. It is *block-scoped* (only exists inside the block `{ ... }` it’s declared in).\n",
    "\n",
    "- **`const`** → Used when you want a variable that should **not** be reassigned. Like `let`, it is *block-scoped*. If you try to change its value, JavaScript will give an error.\n",
    "\n",
    "---"
   ]
  },
  {
   "cell_type": "code",
   "execution_count": 1,
   "metadata": {},
   "outputs": [
    {
     "name": "stdout",
     "output_type": "stream",
     "text": [
      "5 10 15\n"
     ]
    }
   ],
   "source": [
    "var x1 = 5; \n",
    "let y1 = 10;\n",
    "const z1 = 15;\n",
    "\n",
    "console.log(x1, y1, z1);\n"
   ]
  },
  {
   "cell_type": "markdown",
   "metadata": {},
   "source": [
    "## 2. What `console.log` Does\n",
    "\n",
    "\n",
    "`console.log()` is a way to **print information to the console** (a debugging tool built into your browser or coding environment). It helps you see the values of variables or the results of calculations while your code runs.\n",
    "\n",
    "\n",
    "Think of it like saying: *“Hey computer, show me what’s inside this variable!”*\n",
    "\n",
    "\n",
    "Example:"
   ]
  },
  {
   "cell_type": "code",
   "execution_count": 7,
   "metadata": {},
   "outputs": [
    {
     "name": "stdout",
     "output_type": "stream",
     "text": [
      "Hello, Alice\n"
     ]
    }
   ],
   "source": [
    "let name = \"Alice\";\n",
    "console.log(\"Hello, \" + name); // This will print: Hello, Alice"
   ]
  },
  {
   "cell_type": "markdown",
   "metadata": {},
   "source": [
    "## 3. Updating Variables\n",
    "\n",
    "\n",
    "Variables declared with `var` or `let` can be updated:"
   ]
  },
  {
   "cell_type": "markdown",
   "metadata": {},
   "source": [
    "Reassignment means giving a variable a new value after it has been created.\n",
    "\n",
    "Works with var and let\n",
    "\n",
    "Does not work with const (constants cannot be changed)"
   ]
  },
  {
   "cell_type": "code",
   "execution_count": 4,
   "metadata": {},
   "outputs": [
    {
     "name": "stdout",
     "output_type": "stream",
     "text": [
      "20\n",
      "25\n",
      "50\n",
      "75\n"
     ]
    }
   ],
   "source": [
    "// Using var\n",
    "var age = 20;        // initial value\n",
    "console.log(age);    // 20\n",
    "\n",
    "age = 25;            // update the value\n",
    "console.log(age);    // 25\n",
    "\n",
    "// Using let\n",
    "let score = 50;\n",
    "console.log(score);  // 50\n",
    "\n",
    "score = 75;          // update the value\n",
    "console.log(score);  // 75\n",
    "\n",
    "// Using const\n",
    "const pi = 3.14159;\n",
    "// pi = 3;          // ❌ Error! Cannot reassign a const\n"
   ]
  },
  {
   "cell_type": "markdown",
   "metadata": {},
   "source": [
    "You can also update a variable based on its current value. This is very common in calculators, counters, or loops."
   ]
  },
  {
   "cell_type": "code",
   "execution_count": 5,
   "metadata": {},
   "outputs": [
    {
     "name": "stdout",
     "output_type": "stream",
     "text": [
      "0\n",
      "1\n",
      "6\n",
      "12\n"
     ]
    }
   ],
   "source": [
    "let counter = 0;\n",
    "console.log(counter); // 0\n",
    "\n",
    "counter = counter + 1; // add 1 to the current value\n",
    "console.log(counter);  // 1\n",
    "\n",
    "counter += 5;           // shorthand for counter = counter + 5\n",
    "console.log(counter);   // 6\n",
    "\n",
    "counter *= 2;           // shorthand for counter = counter * 2\n",
    "console.log(counter);   // 12\n"
   ]
  },
  {
   "cell_type": "markdown",
   "metadata": {},
   "source": [
    "## 4. Simple Calculator Example\n",
    "\n",
    "\n",
    "#### 1. Define two numbers\n",
    "We start by creating two variables, num1 and num2, and give them values. Think of variables as labeled boxes that hold numbers.\n",
    "\n",
    "#### 2. Perform calculations\n",
    "Using these variables, we can calculate:\n",
    "\n",
    "    The sum (num1 + num2)\n",
    "\n",
    "    The difference (num1 - num2)\n",
    "\n",
    "    The product (num1 * num2)\n",
    "\n",
    "    The quotient (num1 / num2)\n",
    "\n",
    "    Each result is stored in a new variable so we can use it later.\n",
    "\n",
    "#### 3. Display the results\n",
    "To see what happened, we use console.log(), which prints values to the console. It’s like saying, “Hey computer, show me these numbers!”"
   ]
  },
  {
   "cell_type": "code",
   "execution_count": null,
   "metadata": {},
   "outputs": [
    {
     "name": "stdout",
     "output_type": "stream",
     "text": [
      "Numbers: 20 and 5\n",
      "Sum: 25\n",
      "Difference: 15\n",
      "Product: 100\n",
      "Quotient: 4\n"
     ]
    }
   ],
   "source": [
    "let num1 = 20;\n",
    "let num2 = 5;\n",
    "\n",
    "\n",
    "let sum = num1 + num2;\n",
    "let difference = num1 - num2;\n",
    "let product = num1 * num2;\n",
    "let quotient = num1 / num2;\n",
    "\n",
    "\n",
    "console.log(\"Numbers:\", num1, \"and\", num2);\n",
    "console.log(\"Sum:\", sum);\n",
    "console.log(\"Difference:\", difference);\n",
    "console.log(\"Product:\", product);\n",
    "console.log(\"Quotient:\", quotient);"
   ]
  },
  {
   "cell_type": "markdown",
   "metadata": {},
   "source": [
    "## 5. Function-based Calculator\n",
    "\n",
    "A function in JavaScript is a named block of code that performs a specific task. \n",
    "\n",
    "You give it some input (called parameters or arguments).\n",
    "\n",
    "It does something with those inputs (like calculations).\n",
    "\n",
    "It can give back an output (return a value)."
   ]
  },
  {
   "cell_type": "code",
   "execution_count": 3,
   "metadata": {},
   "outputs": [
    {
     "name": "stdout",
     "output_type": "stream",
     "text": [
      "7 + 3 = 10\n",
      "7 - 3 = 4\n",
      "7 * 3 = 21\n",
      "7 / 3 = 2.3333333333333335\n"
     ]
    }
   ],
   "source": [
    "function calculator(a, b, operator) {\n",
    "let result;\n",
    "if (operator === \"+\") {\n",
    "result = a + b;\n",
    "} else if (operator === \"-\") {\n",
    "result = a - b;\n",
    "} else if (operator === \"*\") {\n",
    "result = a * b;\n",
    "} else if (operator === \"/\") {\n",
    "result = a / b;\n",
    "} else {\n",
    "result = \"Invalid operator\";\n",
    "}\n",
    "return result;\n",
    "}\n",
    "\n",
    "\n",
    "console.log(\"7 + 3 =\", calculator(7, 3, \"+\"));\n",
    "console.log(\"7 - 3 =\", calculator(7, 3, \"-\"));\n",
    "console.log(\"7 * 3 =\", calculator(7, 3, \"*\"));\n",
    "console.log(\"7 / 3 =\", calculator(7, 3, \"/\"));"
   ]
  },
  {
   "cell_type": "markdown",
   "metadata": {},
   "source": [
    "### What does return mean?\n",
    "When you write a function in JavaScript, it can send back a value to wherever it was called.\n",
    "That’s what return does: it hands the result of the function back so you can use it outside the function.\n",
    "\n",
    "If you don’t use return, the function will run but won’t give you a usable value — it will just produce undefined.\n",
    "\n"
   ]
  },
  {
   "cell_type": "markdown",
   "metadata": {},
   "source": [
    "### How return works step by step\n",
    "\n",
    "You call the function, like calculator(7, 3, \"+\").\n",
    "\n",
    "Inside the function, JavaScript figures out the result (in this case 7 + 3 = 10).\n",
    "\n",
    "The return statement sends 10 back to the place where the function was called.\n",
    "\n",
    "That’s why console.log can show it — because it receives the returned value.\n",
    "\n",
    "Without the return, the function would finish running but console.log would only show undefined."
   ]
  },
  {
   "cell_type": "markdown",
   "metadata": {},
   "source": [
    "return makes functions useful, because they can send back values you can store, reuse, or pass into other functions."
   ]
  }
 ],
 "metadata": {
  "kernelspec": {
   "display_name": "JavaScript (Node.js)",
   "language": "javascript",
   "name": "javascript"
  },
  "language_info": {
   "file_extension": ".js",
   "mimetype": "application/javascript",
   "name": "javascript",
   "version": "16.20.2"
  }
 },
 "nbformat": 4,
 "nbformat_minor": 2
}

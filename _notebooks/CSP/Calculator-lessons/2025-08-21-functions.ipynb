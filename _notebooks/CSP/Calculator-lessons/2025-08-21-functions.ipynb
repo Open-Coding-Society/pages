{
 "cells": [
  {
   "cell_type": "markdown",
   "id": "07cd0d54",
   "metadata": {},
   "source": [
    "# Lesson: JavaScript Functions & Operators\n",
    "\n",
    "In this lesson, you'll discover how to:\n",
    "\n",
    "- Write and use **JavaScript functions** effectively\n",
    "- Understand and apply different types of **operators**\n",
    "- Call functions and see how they work in real code\n",
    "\n",
    "By the end, you'll be able to create your own functions, use operators for calculations and logic, and combine these skills to solve real problems."
   ]
  },
  {
   "cell_type": "markdown",
   "id": "0ac718fb",
   "metadata": {},
   "source": [
    "## 1. What Are Functions in JavaScript?\n",
    "\n",
    "A function is a named block of code that performs a specific task. Functions help you organize, reuse, and simplify your code. They can accept inputs (called parameters) and return outputs (values).\n",
    "\n",
    "### Function Declaration Example\n",
    "\n",
    "```javascript\n",
    "function greet(name) {\n",
    "    return `Hello, ${name}!`;\n",
    "}\n",
    "\n",
    "console.log(greet(\"Alice\")); // Output: Hello, Alice!\n",
    "```\n",
    "\n",
    "You can call a function as many times as you want, with different arguments."
   ]
  },
  {
   "cell_type": "markdown",
   "id": "b2f29d31",
   "metadata": {},
   "source": [
    "## Different Ways to Write Functions\n",
    "\n",
    "JavaScript supports several ways to define functions. Each has its own use case and syntax.\n",
    "\n",
    "### Function Expressions\n",
    "\n",
    "A function expression assigns a function to a variable. This is useful for passing functions as arguments or storing them in data structures.\n",
    "\n",
    "```javascript\n",
    "const square = function(x) {\n",
    "    return x * x;\n",
    "};\n",
    "\n",
    "console.log(square(5)); // Output: 25\n",
    "```\n",
    "\n",
    "### Arrow Functions\n",
    "\n",
    "Arrow functions provide a shorter syntax and are commonly used for simple operations or callbacks.\n",
    "\n",
    "```javascript\n",
    "const multiply = (a, b) => a * b;\n",
    "\n",
    "console.log(multiply(4, 3)); // Output: 12\n",
    "```\n",
    "\n",
    "Arrow functions do not have their own `this` context, which can be useful in certain situations."
   ]
  },
  {
   "cell_type": "markdown",
   "id": "8a8d4724",
   "metadata": {},
   "source": [
    "Switch statements are great for handling multiple possible values in a readable way.\n",
    "\n",
    "## Nesting Functions: Functions Inside Functions\n",
    "\n",
    "You can define functions inside other functions. These are called nested functions. They help organize code and can access variables from their parent function (closure).\n",
    "\n",
    "```javascript\n",
    "function outerFunction(x) {\n",
    "  function innerFunction(y) {\n",
    "    return y * 2;\n",
    "  }\n",
    "  return innerFunction(x) + 1;\n",
    "}\n",
    "\n",
    "console.log(outerFunction(5)); // Output: 11\n",
    "```\n",
    "\n",
    "Nested functions are useful for breaking down complex logic or creating helper functions that are only needed in a specific scope."
   ]
  },
  {
   "cell_type": "markdown",
   "id": "231ae11f",
   "metadata": {},
   "source": [
    "## Using Switch Statements\n",
    "\n",
    "A `switch` statement lets you run different code depending on the value of a variable or expression. It's cleaner than using many `if...else` statements.\n",
    "\n",
    "```javascript\n",
    "const fruit = \"apple\";\n",
    "switch (fruit) {\n",
    "  case \"apple\":\n",
    "    console.log(\"You chose apple.\");\n",
    "    break;\n",
    "  case \"banana\":\n",
    "    console.log(\"You chose banana.\");\n",
    "    break;\n",
    "  default:\n",
    "    console.log(\"Unknown fruit.\");\n",
    "}\n",
    "// Output: You chose apple.\n",
    "```"
   ]
  },
  {
   "cell_type": "markdown",
   "id": "1c664890",
   "metadata": {},
   "source": [
    "## Real-World Applications\n",
    "\n",
    "**Applications:**\n",
    "- Form validation and data handling\n",
    "- Animation and game logic\n",
    "- Responsive user interfaces\n",
    "- Backend services with Node.js\n",
    "\n",
    "Mastering functions and operators lets you build dynamic, interactive, and efficient web applications."
   ]
  }
 ],
 "metadata": {
  "kernelspec": {
   "display_name": "Python 3",
   "language": "python",
   "name": "python3"
  },
  "language_info": {
   "codemirror_mode": {
    "name": "ipython",
    "version": 3
   },
   "file_extension": ".py",
   "mimetype": "text/x-python",
   "name": "python",
   "nbconvert_exporter": "python",
   "pygments_lexer": "ipython3",
   "version": "3.10.12"
  }
 },
 "nbformat": 4,
 "nbformat_minor": 5
}

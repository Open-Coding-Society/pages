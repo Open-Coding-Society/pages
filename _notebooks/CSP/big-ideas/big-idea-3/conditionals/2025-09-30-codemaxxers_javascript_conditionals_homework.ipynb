{
 "cells": [
  {
   "cell_type": "raw",
   "id": "f9ba8574",
   "metadata": {},
   "source": [
    "---\n",
    "title: \"Conditionals in JavaScript - Hacks\"\n",
    "description: \"Three scaffolded hacks to practice selection (if, else if, else) in JavaScript. No nesting.\"\n",
    "layout: post\n",
    "permalink: /csp/codemaxxers/conditionals/p4/hacks-js/\n",
    "---\n"
   ]
  },
  {
   "cell_type": "markdown",
   "id": "3c712f87",
   "metadata": {},
   "source": [
    "\n",
    "# 🌐 CSP 3.6 Hacks — Conditionals (JavaScript)\n",
    "\n",
    "You will complete **three** small programs that use selection with `if`, `else if`, `else` (no nesting — that's 3.7).  \n",
    "Each hack has:\n",
    "- **Requirements** (what your program **must** do)\n",
    "- **Starter code** (scaffold you can edit)\n",
    "- A **Your Turn** cell to write your final solution\n",
    "\n",
    "**How to run JavaScript:**  \n",
    "- Use your **browser console** (`F12` → Console) and paste code with `prompt()` and `console.log()`, or  \n",
    "- Use an online editor (Replit / CodeSandbox), or  \n",
    "- Use **Node** (replace `prompt()` with hardcoded values when testing).\n"
   ]
  },
  {
   "cell_type": "markdown",
   "id": "841773a2",
   "metadata": {},
   "source": [
    "\n",
    "## 🟢 Hack 1 — Number Range Checker (Beginner)\n",
    "\n",
    "**Requirements (spec):**\n",
    "- Ask for a number.\n",
    "- If the number is **between 0 and 10** (inclusive), print the number **then** print `Goodbye`.\n",
    "- Otherwise, print only `Goodbye!`.\n",
    "- Use one `if / else` and combine comparisons with `&&`.\n",
    "\n",
    "**Tips:** use `parseInt(..., 10)`; inclusive means `>=` and `<=`.\n"
   ]
  },
  {
   "cell_type": "code",
   "execution_count": null,
   "id": "496c38dc",
   "metadata": {
    "vscode": {
     "languageId": "javascript"
    }
   },
   "outputs": [],
   "source": [
    "// Starter code (you will edit this cell)\n",
    "let numText = prompt(\"Enter a number:\");\n",
    "let num = parseInt(numText, 10);\n",
    "\n",
    "// TODO: Write one if/else using >= and <= with &&\n",
    "if (num >= 0 && num <= 10) {\n",
    "  console.log(num);\n",
    "  console.log(\"Goodbye\");\n",
    "} else {\n",
    "  console.log(\"Goodbye!\");\n",
    "}\n"
   ]
  },
  {
   "cell_type": "code",
   "execution_count": null,
   "id": "91ae874e",
   "metadata": {
    "vscode": {
     "languageId": "javascript"
    }
   },
   "outputs": [],
   "source": [
    "// 💻 Your Turn (final answer here)\n",
    "let nText = prompt(\"Enter a number:\");\n",
    "let n = parseInt(nText, 10);\n",
    "\n",
    "// TO DO: write your own if/else:\n"
   ]
  },
  {
   "cell_type": "markdown",
   "id": "93ed4d77",
   "metadata": {},
   "source": [
    "\n",
    "## 🟡 Hack 2 — Grade Evaluator (Intermediate)\n",
    "\n",
    "**Requirements (spec):**\n",
    "- Ask for a grade `0–100`.\n",
    "- If `grade >= 75`, print two lines: `You get extra credit!` then `Have a good day`.\n",
    "- Otherwise, print `Have a good day` only.\n",
    "\n",
    "\n"
   ]
  },
  {
   "cell_type": "code",
   "execution_count": null,
   "id": "e89c7c78",
   "metadata": {
    "vscode": {
     "languageId": "javascript"
    }
   },
   "outputs": [],
   "source": [
    "// Starter code (you will edit this cell)\n",
    "let gradeText = prompt(\"Enter your grade (0-100):\");\n",
    "let grade = parseInt(gradeText, 10);\n",
    "\n",
    "// TODO: implement the selection using if/else (no nesting)\n",
    "if (grade >= 75) {\n",
    "  console.log(\"You get extra credit!\");\n",
    "  console.log(\"Have a good day\");\n",
    "} else {\n",
    "  console.log(\"Have a good day\");\n",
    "}\n"
   ]
  },
  {
   "cell_type": "code",
   "execution_count": null,
   "id": "526fb58c",
   "metadata": {
    "vscode": {
     "languageId": "javascript"
    }
   },
   "outputs": [],
   "source": [
    "// 💻 Your Turn (final answer here)\n",
    "let gText = prompt(\"Enter your grade (0-100):\");\n",
    "let g = parseInt(gText, 10);\n",
    "\n",
    "// TODO: your if/else ladder here\n"
   ]
  },
  {
   "cell_type": "markdown",
   "id": "c9774090",
   "metadata": {},
   "source": [
    "\n",
    "## 🔵 Hack 3 — Access Pass (Advanced)\n",
    "\n",
    "**Inputs:** `age` (number), `has_ticket` (`\"yes\"/\"no\"`), `vip` (`\"yes\"/\"no\"`)\n",
    "\n",
    "**Rules (one flat ladder, no nesting):**\n",
    "- If `vip === \"yes\"` → `VIP Entrance`\n",
    "- Else if `has_ticket === \"yes\"` **and** `age >= 16` → `General Entrance`\n",
    "- Else if `has_ticket === \"yes\"` **and** `age < 16` → `Minor Entrance (with guardian)`\n",
    "- Else → `No Entrance`\n",
    "\n",
    "**Tip:** normalize strings with `.trim().toLowerCase()`.\n"
   ]
  },
  {
   "cell_type": "code",
   "execution_count": null,
   "id": "9c71990e",
   "metadata": {
    "vscode": {
     "languageId": "javascript"
    }
   },
   "outputs": [
    {
     "ename": "SyntaxError",
     "evalue": "invalid syntax (3728750187.py, line 1)",
     "output_type": "error",
     "traceback": [
      "  \u001b[36mCell\u001b[39m\u001b[36m \u001b[39m\u001b[32mIn[9]\u001b[39m\u001b[32m, line 1\u001b[39m\n\u001b[31m    \u001b[39m\u001b[31m// Starter code (you will edit this cell)\u001b[39m\n    ^\n\u001b[31mSyntaxError\u001b[39m\u001b[31m:\u001b[39m invalid syntax\n"
     ]
    }
   ],
   "source": [
    "// Starter code (you will edit this cell)\n",
    "let ageText = prompt(\"Age:\");\n",
    "let age = parseInt(ageText, 10);\n",
    "let has_ticket = prompt(\"Has ticket? (yes/no):\").trim().toLowerCase();\n",
    "let vip = prompt(\"VIP? (yes/no):\").trim().toLowerCase();\n",
    "\n",
    "// TODO: implement the ladder using if / else if / else (no nesting)\n",
    "if (vip === \"yes\") {\n",
    "  console.log(\"VIP Entrance\");\n",
    "} else if (has_ticket === \"yes\" && age >= 16) {\n",
    "  console.log(\"General Entrance\");\n",
    "} else if (has_ticket === \"yes\" && age < 16) {\n",
    "  console.log(\"Minor Entrance (with guardian)\");\n",
    "} else {\n",
    "  console.log(\"No Entrance\");\n",
    "}\n"
   ]
  },
  {
   "cell_type": "code",
   "execution_count": null,
   "id": "86c747e8",
   "metadata": {
    "vscode": {
     "languageId": "javascript"
    }
   },
   "outputs": [],
   "source": [
    "// 💻 Your Turn (final answer here)\n",
    "let aText = prompt(\"Age:\");\n",
    "let a = parseInt(aText, 10);\n",
    "let t = prompt(\"Has ticket? (yes/no):\").trim().toLowerCase();\n",
    "let v = prompt(\"VIP? (yes/no):\").trim().toLowerCase();\n",
    "\n",
    "// TODO: your if / else if / else ladder here\n"
   ]
  },
  {
   "cell_type": "markdown",
   "id": "ed970992",
   "metadata": {},
   "source": [
    "\n",
    "---\n",
    "### 🧾 Turn‑in Checklist\n",
    "- [ ] Each hack prints exactly the required messages.\n",
    "- [ ] You tested the sample inputs (and a couple of your own).\n",
    "- [ ] Code is readable (indentation, spacing, brief comments).\n",
    "- [ ] Reflection added to your portfolio.\n"
   ]
  }
 ],
 "metadata": {
  "kernelspec": {
   "display_name": "venv (3.12.3)",
   "language": "python",
   "name": "python3"
  },
  "language_info": {
   "codemirror_mode": {
    "name": "ipython",
    "version": 3
   },
   "file_extension": ".py",
   "mimetype": "text/x-python",
   "name": "python",
   "nbconvert_exporter": "python",
   "pygments_lexer": "ipython3",
   "version": "3.12.3"
  }
 },
 "nbformat": 4,
 "nbformat_minor": 5
}

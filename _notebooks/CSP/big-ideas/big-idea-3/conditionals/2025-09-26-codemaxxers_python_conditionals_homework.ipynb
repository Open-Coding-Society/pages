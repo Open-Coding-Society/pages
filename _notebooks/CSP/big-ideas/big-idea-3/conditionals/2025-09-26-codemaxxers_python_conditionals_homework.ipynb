{
 "cells": [
  {
   "cell_type": "raw",
   "id": "4aea221d",
   "metadata": {
    "vscode": {
     "languageId": "raw"
    }
   },
   "source": [
    "---\n",
    "title: \"Conditionals in Javascript and Python - Hacks\"\n",
    "description: \"Apply your skills to basic algorithmic design with conditionals.\"\n",
    "layout: post\n",
    "permalink: /csp/CodeMaxxers/conditionals/p4/hacks-python\n",
    "---\n"
   ]
  },
  {
   "cell_type": "markdown",
   "id": "7ad8e13c",
   "metadata": {},
   "source": [
    "\n",
    "# 🚀 CSP 3.6 Hacks — Conditionals \n",
    "\n",
    "You will complete **three** small programs that practice *selection* using `if`, `if/else`, and `if/elif/else`.  \n",
    "**No nested conditionals** in this unit (that is 3.7).\n",
    "\n",
    "## How to work\n",
    "1. **Read the directions** for the hack you’re on.\n",
    "2. **Run the starter cell**, add your code where marked.\n",
    "3. **Test your program** with at least the sample inputs provided.\n",
    "4. **Personalize** one thing (message wording, prompts, etc.).\n",
    "5. When finished, **screenshot or record** a short demo and add it to your portfolio.\n",
    "\n",
    "---\n",
    "## ✅ What we’re assessing\n",
    "- Correct use of `if`, `elif`, `else` (single level).\n",
    "- Correct boolean expressions with comparisons and `and`/`or`/`not`.\n",
    "- Output matches the spec **for the given inputs**.\n",
    "- Clean prompts and readable code/comments.\n"
   ]
  },
  {
   "cell_type": "markdown",
   "id": "dfe8fa90",
   "metadata": {},
   "source": [
    "\n",
    "## 🟢 Hack 1 — Number Range Checker \n",
    "\n",
    "**Goal**: Ask for a number and **select** the correct output.\n",
    "\n",
    "**Rules**\n",
    "- If input is **between 0 and 10** (inclusive), print the number **then** print `\"Goodbye\"`.\n",
    "- Else, **immediately** print `\"Goodbye!\"` only.\n",
    "- Use a single `if/else` and a combined condition with `and`.\n",
    "\n",
    "**Steps**\n",
    "- [ ] Prompt: `\"Enter a number: \"` and convert to `int`.\n",
    "- [ ] Write one condition using `>=` and `<=` with `and`.\n",
    "- [ ] Print in the correct order for the true case.\n",
    "- [ ] Print only `\"Goodbye!\"` for the false case.\n",
    "\n",
    "**Sample tests to try**\n",
    "- Input `5` → prints `5` then `Goodbye` on next line.\n",
    "- Input `-2` → prints `Goodbye!`\n",
    "- Input `10` → prints `10` then `Goodbye`\n",
    "\n",
    "**Make it yours (optional)**\n",
    "- Change the goodbye message text, but keep the logic the same.\n"
   ]
  },
  {
   "cell_type": "markdown",
   "id": "f0c3ee87",
   "metadata": {},
   "source": [
    "\n",
    "## 🟡 Hack 2 — Grade Evaluator \n",
    "\n",
    "**Goal**: Print messages based on a passing threshold using **selection**.\n",
    "\n",
    "**Spec**\n",
    "- Ask for a grade `0–100` (int).\n",
    "- If `grade >= 75` → print **two lines**:  \n",
    "  1) `\"You get extra credit!\"`  \n",
    "  2) `\"Have a good day\"`  \n",
    "- Else → print only `\"Have a good day\"`.\n",
    "- Use `if/else` (no nesting).\n",
    "\n",
    "**Steps**\n",
    "- [ ] Prompt: `\"Enter your grade (0-100): \"` and convert to `int`.\n",
    "- [ ] Write the `if/else` using `>=`.\n",
    "- [ ] Make sure the passing branch prints **both** lines, in order.\n",
    "\n",
    "**Sample tests to try**\n",
    "- `100` → two lines\n",
    "- `75` → two lines\n",
    "- `74` → one line\n",
    "\n",
    "**Extension (still 3.6, no nesting)**\n",
    "- Add an `elif grade < 0 or grade > 100` to warn about invalid input, else keep the same behavior.\n"
   ]
  },
  {
   "cell_type": "markdown",
   "id": "10724019",
   "metadata": {},
   "source": [
    "\n",
    "## 🔵 Hack 3 — Access Pass\n",
    "\n",
    "You’re programming the entrance logic for a concert venue.\n",
    "\n",
    "**Inputs**\n",
    "- `age` (int)\n",
    "- `has_ticket` (string `\"yes\"`/`\"no\"` — case-insensitive)\n",
    "- `vip` (string `\"yes\"`/`\"no\"` — case-insensitive)\n",
    "\n",
    "**Rules (single-level only)**\n",
    "- If `vip == \"yes\"` → print `\"VIP Entrance\"`\n",
    "- Else if `has_ticket == \"yes\"` **and** `age >= 16` → `\"General Entrance\"`\n",
    "- Else if `has_ticket == \"yes\"` **and** `age < 16` → `\"Minor Entrance (with guardian)\"`\n",
    "- Else → `\"No Entrance\"`\n",
    "\n",
    "**Steps**\n",
    "- [ ] Read inputs and normalize strings with `.strip().lower()`.\n",
    "- [ ] Use **one** `if/elif/elif/else` ladder (no nesting).\n",
    "- [ ] Combine conditions with `and` where required.\n",
    "- [ ] Print exactly one of the four messages.\n",
    "\n",
    "**Sample tests to try**\n",
    "- `age=12, ticket=no, vip=yes` → `VIP Entrance`\n",
    "- `age=20, ticket=yes, vip=no` → `General Entrance`\n",
    "- `age=15, ticket=yes, vip=no` → `Minor Entrance (with guardian)`\n",
    "- `age=20, ticket=no, vip=no` → `No Entrance`\n",
    "\n",
    "**Challenge (optional)**\n",
    "- Add an **OR**: Guests under 8 with a ticket may enter as `\"Kid Entrance (with adult)\"`.  \n",
    "  Hint: add a new `elif has_ticket == \"yes\" and age < 8:` **before** the final `else`.\n"
   ]
  },
  {
   "cell_type": "markdown",
   "id": "e65a930a",
   "metadata": {},
   "source": [
    "## Hack 1 — Number Range Checker (Beginner)"
   ]
  },
  {
   "cell_type": "code",
   "execution_count": null,
   "id": "adf08e23",
   "metadata": {},
   "outputs": [],
   "source": [
    "num = int(input(\"Enter a number: \"))\n",
    "# TODO: check if between 0 and 10 (inclusive)\n",
    "if (num >= 0) and (num <= 10):\n",
    "    print(num)\n",
    "    print(\"Goodbye\")\n",
    "else:\n",
    "    print(\"Goodbye!\")"
   ]
  },
  {
   "cell_type": "markdown",
   "id": "6336b78d",
   "metadata": {},
   "source": [
    "## Hack 2 — Grade Evaluator (Intermediate)"
   ]
  },
  {
   "cell_type": "code",
   "execution_count": null,
   "id": "34cb49f9",
   "metadata": {},
   "outputs": [],
   "source": [
    "grade = int(input(\"Enter your grade: \"))\n",
    "# TODO: if >= 75 → extra credit, then Have a good day\n",
    "# else just Have a good day\n",
    "if grade >= 75:\n",
    "    print(\"You get extra credit!\")\n",
    "    print(\"Have a good day\")\n",
    "else:\n",
    "    print(\"Have a good day\")"
   ]
  },
  {
   "cell_type": "markdown",
   "id": "9745bec0",
   "metadata": {},
   "source": [
    "## Hack 3 — Access Pass (Advanced)"
   ]
  },
  {
   "cell_type": "code",
   "execution_count": null,
   "id": "838cdadd",
   "metadata": {},
   "outputs": [],
   "source": [
    "age = int(input(\"Age: \"))\n",
    "has_ticket = input(\"Has ticket? (yes/no): \").strip().lower()\n",
    "vip = input(\"VIP? (yes/no): \").strip().lower()\n",
    "\n",
    "if vip == \"yes\":\n",
    "    print(\"VIP Entrance\")\n",
    "elif has_ticket == \"yes\" and age >= 16:\n",
    "    print(\"General Entrance\")\n",
    "elif has_ticket == \"yes\" and age < 16:\n",
    "    print(\"Minor Entrance (with guardian)\")\n",
    "else:\n",
    "    print(\"No Entrance\")"
   ]
  },
  {
   "cell_type": "markdown",
   "id": "8a2d9f1b",
   "metadata": {},
   "source": [
    "\n",
    "---\n",
    "### 🧾 Turn-in checklist\n",
    "- [ ] All three hacks run and match the spec on sample tests.\n",
    "- [ ] You included at least one **personalized** element.\n",
    "- [ ] You wrote a 2–3 sentence reflection in your portfolio:  \n",
    "  - What conditional form did you use most?  \n",
    "  - Where did you use `and`/`or`/`not`?  \n",
    "  - One thing you could add next time (without nesting).\n"
   ]
  }
 ],
 "metadata": {
  "language_info": {
   "name": "python"
  }
 },
 "nbformat": 4,
 "nbformat_minor": 5
}

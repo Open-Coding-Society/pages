{
 "cells": [
  {
   "cell_type": "code",
   "execution_count": 2,
   "id": "9087d7af",
   "metadata": {},
   "outputs": [
    {
     "name": "stdout",
     "output_type": "stream",
     "text": [
      "🎯 JavaScript String Basics - Free-Response Quiz\n",
      "Type your answers below and click Check Answers.\n",
      "\n"
     ]
    },
    {
     "data": {
      "application/vnd.jupyter.widget-view+json": {
       "model_id": "3128a08c10e445b9a0bb8d898c4e979a",
       "version_major": 2,
       "version_minor": 0
      },
      "text/plain": [
       "HTML(value='<b>1. In JavaScript, which property is used to get the length of a string?</b><br><i>Answer with t…"
      ]
     },
     "metadata": {},
     "output_type": "display_data"
    },
    {
     "data": {
      "application/vnd.jupyter.widget-view+json": {
       "model_id": "2be68796b57944cdac8874de44ddd8f8",
       "version_major": 2,
       "version_minor": 0
      },
      "text/plain": [
       "Text(value='', placeholder='e.g., length or string.length')"
      ]
     },
     "metadata": {},
     "output_type": "display_data"
    },
    {
     "data": {
      "application/vnd.jupyter.widget-view+json": {
       "model_id": "8a9ab7ac838e4755a6e14f1f043772d4",
       "version_major": 2,
       "version_minor": 0
      },
      "text/plain": [
       "HTML(value='<b>2. Which expression can concatenate two strings?</b><br><i>Type the expression or operator (e.g…"
      ]
     },
     "metadata": {},
     "output_type": "display_data"
    },
    {
     "data": {
      "application/vnd.jupyter.widget-view+json": {
       "model_id": "5efafa695e5843d2a1bcced135b9fabb",
       "version_major": 2,
       "version_minor": 0
      },
      "text/plain": [
       "Text(value='', placeholder='e.g., \"Hello\" + \"World\" or +')"
      ]
     },
     "metadata": {},
     "output_type": "display_data"
    },
    {
     "data": {
      "application/vnd.jupyter.widget-view+json": {
       "model_id": "95adb5a624e7417cb02df135b4305bbc",
       "version_major": 2,
       "version_minor": 0
      },
      "text/plain": [
       "HTML(value=\"<b>3. What does 'JavaScript'.substring(0, 4) return?</b><br><i>Type the exact substring</i>\")"
      ]
     },
     "metadata": {},
     "output_type": "display_data"
    },
    {
     "data": {
      "application/vnd.jupyter.widget-view+json": {
       "model_id": "6868661fbcf848f5bb7668619a6b3e81",
       "version_major": 2,
       "version_minor": 0
      },
      "text/plain": [
       "Text(value='', placeholder='e.g., Java')"
      ]
     },
     "metadata": {},
     "output_type": "display_data"
    },
    {
     "data": {
      "application/vnd.jupyter.widget-view+json": {
       "model_id": "8391700872bc4c4b9e6fab4bcbecafee",
       "version_major": 2,
       "version_minor": 0
      },
      "text/plain": [
       "HTML(value='<b>4. Which method converts a string to uppercase?</b><br><i>Type the method name</i>')"
      ]
     },
     "metadata": {},
     "output_type": "display_data"
    },
    {
     "data": {
      "application/vnd.jupyter.widget-view+json": {
       "model_id": "0f2075da3cd14e9dafc70c0c0c1410f3",
       "version_major": 2,
       "version_minor": 0
      },
      "text/plain": [
       "Text(value='', placeholder='e.g., toUpperCase()')"
      ]
     },
     "metadata": {},
     "output_type": "display_data"
    },
    {
     "data": {
      "application/vnd.jupyter.widget-view+json": {
       "model_id": "01909166468349238f075684122bcba7",
       "version_major": 2,
       "version_minor": 0
      },
      "text/plain": [
       "HTML(value='<b>5. String indexes start at 1 in JavaScript</b><br><i>Answer True or False</i>')"
      ]
     },
     "metadata": {},
     "output_type": "display_data"
    },
    {
     "data": {
      "application/vnd.jupyter.widget-view+json": {
       "model_id": "869da7277dba4dc8a3fb5bb531a30903",
       "version_major": 2,
       "version_minor": 0
      },
      "text/plain": [
       "Text(value='', placeholder='True/False')"
      ]
     },
     "metadata": {},
     "output_type": "display_data"
    },
    {
     "data": {
      "application/vnd.jupyter.widget-view+json": {
       "model_id": "7ce7fdecab6b4c1e959d3e22fef9696f",
       "version_major": 2,
       "version_minor": 0
      },
      "text/plain": [
       "HTML(value=\"<b>6. 'hello'.length returns 5</b><br><i>Answer True or False</i>\")"
      ]
     },
     "metadata": {},
     "output_type": "display_data"
    },
    {
     "data": {
      "application/vnd.jupyter.widget-view+json": {
       "model_id": "b8710c1e52bb488c994170921ca316ee",
       "version_major": 2,
       "version_minor": 0
      },
      "text/plain": [
       "Text(value='', placeholder='True/False')"
      ]
     },
     "metadata": {},
     "output_type": "display_data"
    },
    {
     "data": {
      "application/vnd.jupyter.widget-view+json": {
       "model_id": "e38756cb9efd42b5aa2e77f752f5bcc9",
       "version_major": 2,
       "version_minor": 0
      },
      "text/plain": [
       "Button(button_style='success', description='Check Answers', icon='check', style=ButtonStyle())"
      ]
     },
     "metadata": {},
     "output_type": "display_data"
    },
    {
     "data": {
      "application/vnd.jupyter.widget-view+json": {
       "model_id": "ae32ef1952a64eee8c9846728e055f32",
       "version_major": 2,
       "version_minor": 0
      },
      "text/plain": [
       "Output()"
      ]
     },
     "metadata": {},
     "output_type": "display_data"
    }
   ],
   "source": [
    "# Interactive Free-Response Quiz (JavaScript-only)\n",
    "from IPython.display import display, HTML, Javascript\n",
    "import ipywidgets as widgets\n",
    "\n",
    "print(\"🎯 JavaScript String Basics - Free-Response Quiz\")\n",
    "print(\"Type your answers below and click Check Answers.\\n\")\n",
    "\n",
    "# Question 1\n",
    "q1_label = widgets.HTML(\"<b>1. In JavaScript, which property is used to get the length of a string?</b><br><i>Answer with the property name (e.g., length or string.length)</i>\")\n",
    "q1_input = widgets.Text(placeholder=\"e.g., length or string.length\")\n",
    "\n",
    "# Question 2\n",
    "q2_label = widgets.HTML(\"<b>2. Which expression can concatenate two strings?</b><br><i>Type the expression or operator (e.g., \\\"Hello\\\" + \\\"World\\\" or +)</i>\")\n",
    "q2_input = widgets.Text(placeholder='e.g., \"Hello\" + \"World\" or +')\n",
    "\n",
    "# Question 3\n",
    "q3_label = widgets.HTML(\"<b>3. What does 'JavaScript'.substring(0, 4) return?</b><br><i>Type the exact substring</i>\")\n",
    "q3_input = widgets.Text(placeholder='e.g., Java')\n",
    "\n",
    "# Question 4\n",
    "q4_label = widgets.HTML(\"<b>4. Which method converts a string to uppercase?</b><br><i>Type the method name</i>\")\n",
    "q4_input = widgets.Text(placeholder='e.g., toUpperCase()')\n",
    "\n",
    "# True/False Questions\n",
    "q5_label = widgets.HTML(\"<b>5. String indexes start at 1 in JavaScript</b><br><i>Answer True or False</i>\")\n",
    "q5_input = widgets.Text(placeholder='True/False')\n",
    "\n",
    "q6_label = widgets.HTML(\"<b>6. 'hello'.length returns 5</b><br><i>Answer True or False</i>\")\n",
    "q6_input = widgets.Text(placeholder='True/False')\n",
    "\n",
    "# Submit Button\n",
    "submit_btn = widgets.Button(\n",
    "    description=\"Check Answers\",\n",
    "    button_style='success',\n",
    "    icon='check'\n",
    ")\n",
    "\n",
    "output = widgets.Output()\n",
    "\n",
    "# Helper functions for tolerant checking\n",
    "\n",
    "def clean_token(s: str) -> str:\n",
    "    s = s.strip().lower()\n",
    "    s = s.strip('`')\n",
    "    if s.endswith('()'):\n",
    "        s = s[:-2]\n",
    "    return s\n",
    "\n",
    "\n",
    "def strip_quotes_spaces(s: str) -> str:\n",
    "    return s.replace('\"', '').replace(\"'\", '').replace(' ', '').strip().lower()\n",
    "\n",
    "\n",
    "def parse_bool_like(s: str):\n",
    "    v = s.strip().lower()\n",
    "    if v in {'true', 't', 'yes', 'y', '1'}:\n",
    "        return True\n",
    "    if v in {'false', 'f', 'no', 'n', '0'}:\n",
    "        return False\n",
    "    return None\n",
    "\n",
    "\n",
    "def check_answers(btn):\n",
    "    with output:\n",
    "        output.clear_output()\n",
    "        score = 0\n",
    "        total = 6\n",
    "\n",
    "        print(\"📊 QUIZ RESULTS\")\n",
    "        print(\"=\" * 40)\n",
    "\n",
    "        # Q1: length property\n",
    "        a1 = clean_token(q1_input.value)\n",
    "        if a1 == 'length' or a1.endswith('.length'):\n",
    "            score += 1\n",
    "            print(\"✅ Q1: CORRECT\")\n",
    "        else:\n",
    "            print(\"❌ Q1: INCORRECT - Expected: length (property)\")\n",
    "\n",
    "        # Q2: concatenation using +\n",
    "        raw2 = q2_input.value\n",
    "        a2_clean = strip_quotes_spaces(raw2)\n",
    "        if ('+' in raw2) or ('plus' in raw2.lower()) or (a2_clean == 'hello+world'):\n",
    "            score += 1\n",
    "            print(\"✅ Q2: CORRECT\")\n",
    "        else:\n",
    "            print(\"❌ Q2: INCORRECT - Example: \\\"Hello\\\" + \\\"World\\\" (use +)\")\n",
    "\n",
    "        # Q3: substring(0,4) -> \"Java\"\n",
    "        a3 = q3_input.value.strip().strip('\"').strip(\"'\")\n",
    "        if a3.lower() == 'java':\n",
    "            score += 1\n",
    "            print(\"✅ Q3: CORRECT\")\n",
    "        else:\n",
    "            print(\"❌ Q3: INCORRECT - Correct: Java\")\n",
    "\n",
    "        # Q4: toUpperCase()\n",
    "        a4 = clean_token(q4_input.value).replace('_', '')\n",
    "        if a4 == 'touppercase':\n",
    "            score += 1\n",
    "            print(\"✅ Q4: CORRECT\")\n",
    "        else:\n",
    "            print(\"❌ Q4: INCORRECT - Correct: toUpperCase()\")\n",
    "\n",
    "        # Q5: False (indexes start at 0)\n",
    "        a5 = parse_bool_like(q5_input.value)\n",
    "        if a5 is None:\n",
    "            print(\"⚠️ Q5: Could not parse. Please answer True/False.\")\n",
    "        elif a5 is False:\n",
    "            score += 1\n",
    "            print(\"✅ Q5: CORRECT\")\n",
    "        else:\n",
    "            print(\"❌ Q5: INCORRECT - Correct: False (indexes start at 0)\")\n",
    "\n",
    "        # Q6: True ('hello'.length == 5)\n",
    "        a6 = parse_bool_like(q6_input.value)\n",
    "        if a6 is None:\n",
    "            print(\"⚠️ Q6: Could not parse. Please answer True/False.\")\n",
    "        elif a6 is True:\n",
    "            score += 1\n",
    "            print(\"✅ Q6: CORRECT\")\n",
    "        else:\n",
    "            print(\"❌ Q6: INCORRECT - Correct: True\")\n",
    "\n",
    "        print(\"=\" * 40)\n",
    "        print(f\"🎯 Your Score: {score}/{total}\")\n",
    "        print(f\"📈 Percentage: {score/total*100:.1f}%\")\n",
    "\n",
    "        # Persist a completion flag to localStorage (optional)\n",
    "        try:\n",
    "            display(Javascript(\"\"\"localStorage.setItem('csp34_hw_quiz_tried','true');\"\"\"))\n",
    "        except Exception:\n",
    "            pass\n",
    "\n",
    "\n",
    "submit_btn.on_click(check_answers)\n",
    "\n",
    "# Display all questions and inputs\n",
    "display(\n",
    "    q1_label, q1_input,\n",
    "    q2_label, q2_input,\n",
    "    q3_label, q3_input,\n",
    "    q4_label, q4_input,\n",
    "    q5_label, q5_input,\n",
    "    q6_label, q6_input,\n",
    "    submit_btn, output,\n",
    ")"
   ]
  },
  {
   "cell_type": "markdown",
   "id": "4cf9f9ec",
   "metadata": {},
   "source": [
    "## Part C: JavaScript Password Strength Practice\n",
    "\n",
    "Here you will make a password strength analyzer in JavaScript. Complete the program so it checks:\n",
    "\n",
    "- Password length ≥ 8 characters\n",
    "- Contains uppercase letters\n",
    "- Contains lowercase letters  \n",
    "- Contains numbers\n",
    "- Contains special characters (!@#$%^&*)\n",
    "\n",
    "Then calculate a strength score and display appropriate feedback."
   ]
  },
  {
   "cell_type": "code",
   "execution_count": 20,
   "id": "f2a683a6",
   "metadata": {
    "vscode": {
     "languageId": "javascript"
    }
   },
   "outputs": [
    {
     "ename": "SyntaxError",
     "evalue": "invalid syntax (3963980376.py, line 1)",
     "output_type": "error",
     "traceback": [
      "  \u001b[36mCell\u001b[39m\u001b[36m \u001b[39m\u001b[32mIn[20]\u001b[39m\u001b[32m, line 1\u001b[39m\n\u001b[31m    \u001b[39m\u001b[31mconst rl = readline.createInterface({\u001b[39m\n          ^\n\u001b[31mSyntaxError\u001b[39m\u001b[31m:\u001b[39m invalid syntax\n"
     ]
    }
   ],
   "source": [
    "const rl = readline.createInterface({\n",
    "  input: process.stdin,\n",
    "  output: process.stdout\n",
    "});\n",
    "\n",
    "console.log(\"=== Password Strength Analyzer ===\");\n",
    "rl.question(\"What is your password? \", (password) => {\n",
    "  const passwordLength = password.length;\n",
    "  const isLongEnough = passwordLength >= 8;\n",
    "  const hasUppercase = /[A-Z]/.test(password);\n",
    "  const hasLowercase = /[a-z]/.test(password);\n",
    "  const hasNumbers = /\\d/.test(password);\n",
    "  const hasSpecial = /[!@#$%^&*]/.test(password);\n",
    "\n",
    "  let strengthScore = 0;\n",
    "  if (isLongEnough) strengthScore++;\n",
    "  if (hasUppercase) strengthScore++;\n",
    "  if (hasLowercase) strengthScore++;\n",
    "  if (hasNumbers) strengthScore++;\n",
    "  if (hasSpecial) strengthScore++;\n",
    "\n",
    "  let strengthRating = \"\";\n",
    "  if (strengthScore <= 2) strengthRating = \"Weak\";\n",
    "  else if (strengthScore <= 4) strengthRating = \"Medium\";\n",
    "  else strengthRating = \"Strong\";\n",
    "\n",
    "  const suggestions = [];\n",
    "  if (!isLongEnough) suggestions.push(\"Make password longer (at least 8 characters)\");\n",
    "  if (!hasUppercase) suggestions.push(\"Add uppercase letters\");\n",
    "  if (!hasLowercase) suggestions.push(\"Add lowercase letters\");\n",
    "  if (!hasNumbers) suggestions.push(\"Add numbers\");\n",
    "  if (!hasSpecial) suggestions.push(\"Add special characters: !@#$%^&*\");\n",
    "\n",
    "  console.log(\"\\nPassword: \" + password);\n",
    "  console.log(\"Length: \" + passwordLength + \" characters\");\n",
    "  console.log(\"Strength Score: \" + strengthScore + \"/5 - \" + strengthRating);\n",
    "  console.log(\"Requirements met:\");\n",
    "  console.log(\"  Length >= 8:\", isLongEnough);\n",
    "  console.log(\"  Has uppercase:\", hasUppercase);\n",
    "  console.log(\"  Has lowercase:\", hasLowercase);\n",
    "  console.log(\"  Has numbers:\", hasNumbers);\n",
    "  console.log(\"  Has special chars:\", hasSpecial);\n",
    "\n",
    "  if (suggestions.length > 0) {\n",
    "    console.log(\"\\nSuggestions for improvement:\");\n",
    "    for (const s of suggestions) console.log(\"  • \" + s);\n",
    "  } else {\n",
    "    console.log(\"\\n🎉 Excellent! Your password meets all security requirements!\");\n",
    "  }\n",
    "\n",
    "  rl.close();\n",
    "});\n"
   ]
  }
 ],
 "metadata": {
  "kernelspec": {
   "display_name": "venv (3.12.11)",
   "language": "python",
   "name": "python3"
  },
  "language_info": {
   "codemirror_mode": {
    "name": "ipython",
    "version": 3
   },
   "file_extension": ".py",
   "mimetype": "text/x-python",
   "name": "python",
   "nbconvert_exporter": "python",
   "pygments_lexer": "ipython3",
   "version": "3.12.11"
  }
 },
 "nbformat": 4,
 "nbformat_minor": 5
}

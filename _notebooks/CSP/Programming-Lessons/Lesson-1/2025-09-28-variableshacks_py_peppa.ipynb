{
 "cells": [
  {
   "cell_type": "raw",
   "id": "e418543b",
   "metadata": {},
   "source": "---\nlayout: post\ntitle: \"3.1 Variables & Assignments hacks - Python\"\ncategories: [Programming Fundamentals, Tutorial]\ntags: [python, variables, assignment, beginner]\ndescription: Apply your understanding of Variables & Assignments with these Python hacks\npermalink: /peppa-maze/variableshacks-python\nmenu: nav/csp_units/csp_programming_lessons.html\n---"
  },
  {
   "cell_type": "markdown",
   "id": "fced9f1c",
   "metadata": {},
   "source": [
    "# 🐷 Peppa Maze Variables & Assignments Hacks (Python)\n",
    "Welcome to the Peppa Maze hacks! These challenges will test your understanding of variables, assignments, and logic in Python. Read each task, then write or modify code to solve it."
   ]
  },
  {
   "cell_type": "markdown",
   "id": "69eb16db",
   "metadata": {},
   "source": [
    "## Hack 1: Python - Variable Assignment, Naming, and Operators\n",
    "Create variables for Peppa's name, score, and level using good Python naming conventions. Assign initial values, then use operators to update score (add 10) and level (multiply by 2). Print all results."
   ]
  },
  {
   "cell_type": "code",
   "execution_count": null,
   "id": "56c92512",
   "metadata": {},
   "outputs": [],
   "source": [
    "# Write your code here\n",
    "# Create variables for Peppa's name, score, and level\n",
    "# Use operators to update score and level"
   ]
  },
  {
   "cell_type": "markdown",
   "id": "6478897b",
   "metadata": {},
   "source": [
    "## Hack 2: Python - Variable Declaration, Assignment, and Operators\n",
    "Declare variables for Peppa and George's scores using good Python naming conventions. Assign initial values, then use operators to update both scores (e.g., Peppa gets 15 points, George loses 5 points). Print both scores."
   ]
  },
  {
   "cell_type": "code",
   "execution_count": null,
   "id": "87772c73",
   "metadata": {},
   "outputs": [],
   "source": [
    "# Write your code here\n",
    "# Declare variables for Peppa and George's scores\n",
    "# Use operators to update both scores"
   ]
  },
  {
   "cell_type": "markdown",
   "id": "b1eafeb9",
   "metadata": {},
   "source": [
    "## Hack 3: Python - Multiple Assignment and Math Operators\n",
    "Peppa and George both start at level 1. Use Python's multiple assignment feature to assign both their levels to 5 in one line. Then, calculate a combined score by multiplying their levels together and multiplying by 10. Print all results."
   ]
  },
  {
   "cell_type": "code",
   "execution_count": null,
   "id": "f96d20fd",
   "metadata": {},
   "outputs": [],
   "source": [
    "# Write your code here\n",
    "# peppa_level = 1\n",
    "# george_level = 1\n",
    "# Assign both levels to 5 in one line using multiple assignment\n",
    "# combined_score = peppa_level * george_level * 10\n",
    "# Print all results"
   ]
  }
 ],
 "metadata": {
  "language_info": {
   "name": "python"
  }
 },
 "nbformat": 4,
 "nbformat_minor": 5
}
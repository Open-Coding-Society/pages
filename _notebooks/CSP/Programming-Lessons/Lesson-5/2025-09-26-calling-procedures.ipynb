{
 "cells": [
  {
   "cell_type": "code",
   "execution_count": null,
   "id": "16b31136",
   "metadata": {
    "vscode": {
     "languageId": "yaml"
    }
   },
   "outputs": [],
   "source": "---\ntoc: true\ncomments: false\nlayout: post\ncategories: [CSP Big Idea 3]\ntitle: 3.12 Calling Procedures \ndescription: Calling procedures in JS and Python with a dash of crabs.\ncourses: { csp: {week: 8 } }\ntype: ccc\npermalink: /csp/big-idea-3/calling-procedures/p4/introduction\nmenu: nav/csp_units/csp_programming_lessons.html\n---"
  },
  {
   "cell_type": "markdown",
   "id": "2a8c20d4",
   "metadata": {},
   "source": [
    "# Test"
   ]
  }
 ],
 "metadata": {
  "language_info": {
   "name": "python"
  }
 },
 "nbformat": 4,
 "nbformat_minor": 5
}
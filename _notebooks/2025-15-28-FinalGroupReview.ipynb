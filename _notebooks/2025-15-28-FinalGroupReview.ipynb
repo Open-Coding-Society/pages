{
 "cells": [
  {
   "cell_type": "markdown",
   "id": "7065d042",
   "metadata": {},
   "source": [
    "## Final Group Review"
   ]
  },
  {
   "cell_type": "markdown",
   "id": "532a7b8c",
   "metadata": {},
   "source": [
    "> so... 12 weeks have passed. How have we wasted these 12 weeks?"
   ]
  },
  {
   "cell_type": "markdown",
   "id": "d2515065",
   "metadata": {},
   "source": [
    "## Addition 1"
   ]
  },
  {
   "cell_type": "markdown",
   "id": "66e3972d",
   "metadata": {},
   "source": [
    "In the beginning, we added a two player system to our End level.\n",
    "This was done with one file by delegating movement inputs down to the instances of the Player class."
   ]
  },
  {
   "cell_type": "code",
   "execution_count": null,
   "id": "7dd3c177",
   "metadata": {
    "vscode": {
     "languageId": "javascript"
    }
   },
   "outputs": [],
   "source": [
    "if (this.pressedKeys[this.keypress.up] && this.pressedKeys[this.keypress.left]) {\n",
    "    this.velocity.y -= this.yVelocity;\n",
    "    this.velocity.x -= this.xVelocity;\n",
    "    this.direction = 'upLeft';\n",
    "} else if (this.pressedKeys[this.keypress.up] && this.pressedKeys[this.keypress.right]) {\n",
    "    this.velocity.y -= this.yVelocity;\n",
    "    this.velocity.x += this.xVelocity;\n",
    "    this.direction = 'upRight';"
   ]
  },
  {
   "cell_type": "markdown",
   "id": "cfdaecc5",
   "metadata": {},
   "source": [
    "a short snippet of the movement code using instanced variables"
   ]
  },
  {
   "cell_type": "markdown",
   "id": "50a6ec1e",
   "metadata": {},
   "source": [
    "## Addition 2"
   ]
  },
  {
   "cell_type": "markdown",
   "id": "12b9ec26",
   "metadata": {},
   "source": [
    "Next, we added an enemy to our level. It didn't do much at this stage except have a sprite and kill players on contact."
   ]
  },
  {
   "cell_type": "markdown",
   "id": "e7f9799b",
   "metadata": {},
   "source": [
    "![enderman](https://ibb.co/5dWvjbn)"
   ]
  },
  {
   "cell_type": "code",
   "execution_count": null,
   "id": "ee7f0d78",
   "metadata": {
    "vscode": {
     "languageId": "javascript"
    }
   },
   "outputs": [],
   "source": [
    "const sprite_src_enemy = path + \"/images/gamify/enderman.png\";\n",
    "const sprite_data_enemy = {\n",
    "    id: 'Enderman',\n",
    "    greeting: \"You feel a dark presence...\",\n",
    "    src: sprite_src_enemy,\n",
    "    SCALE_FACTOR: 10,\n",
    "    ANIMATION_RATE: 50,\n",
    "    pixels: {height: 1504, width: 574},\n",
    "    INIT_POSITION: { x: width / 2, y: height / 4 },\n",
    "    orientation: {rows: 1, columns: 1},\n",
    "    down: {row: 0, start: 0, columns: 1},\n",
    "    hitbox: { widthPercentage: 0.4, heightPercentage: 0.4 },\n",
    "    zIndex: 10,\n",
    "    isKilling: false, // Flag to prevent multiple kills\n",
    "    \n",
    "    // The update method with all functionality inline\n",
    "    update: function() {\n",
    "        // Skip update if already in killing process\n",
    "        if (this.isKilling) {\n",
    "            return;\n",
    "        }"
   ]
  }
 ],
 "metadata": {
  "language_info": {
   "name": "python"
  }
 },
 "nbformat": 4,
 "nbformat_minor": 5
}

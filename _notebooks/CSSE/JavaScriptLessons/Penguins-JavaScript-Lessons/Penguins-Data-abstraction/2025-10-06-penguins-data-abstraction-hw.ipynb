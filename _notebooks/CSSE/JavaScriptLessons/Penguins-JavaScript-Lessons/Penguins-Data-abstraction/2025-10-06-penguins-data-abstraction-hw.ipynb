{
 "cells": [
  {
   "cell_type": "markdown",
   "id": "244ca838",
   "metadata": {
    "vscode": {
     "languageId": "plaintext"
    }
   },
   "source": [
    "---\n",
    "layout: opencs\n",
    "title: Data Abstraction Lesson\n",
    "permalink: /penguins/js-lessons/homework/data-abstraction\n",
    "---"
   ]
  },
  {
   "cell_type": "markdown",
   "id": "4e3ab516",
   "metadata": {},
   "source": [
    "# Penguins JS Lessons\n",
    "\n",
    "<a href=\"https://github.com/Comp-Sci-Team/js-lesson_pages/blob/main/_notebooks/CSSE/JavaScriptLessons/Penguins-JavaScript-Lessons/Penguins-Data-abstraction/2025-10-06-penguins-data-abstraction-hw.ipynb\" download><b>Download Homework</b></a> <br/>\n",
    "<a href=\"https://docs.google.com/forms/d/e/1FAIpQLSekRobtOPkiOqxddn2OppFw0pN2sEeVK87Z2bZFKx4Ief_4yA/viewform?usp=preview\"><b>Submission Google Form for Homework</b></a>\n",
    "\n",
    "## **Data Abstraction Homework**\n",
    "In order to learn this subject of programming well, you have to practice:\n",
    "\n",
    "> Popcorn hack 1: operations with variables\n",
    "\n",
    "> Popcorn hack 2: Make 2 variables `x`, and `y`. Compute 3 different operations and log it into the console with console.log();\n",
    "\n",
    "> Final Task: Build a system of functions that represent different mathematical expressions. Each of these functions will perform a different mathematical operation(ex: add, subtract). Make at least 5 of these different functions. \n",
    "\n",
    "---"
   ]
  },
  {
   "cell_type": "markdown",
   "id": "ae486711",
   "metadata": {},
   "source": [
    "## <b>Popcorn Hack 1 (Progress Check)</b>\n",
    "\n",
    "Data abstraction with functions:\n",
    "\n",
    "**Part 1:** Edit the `Account()` function to print out the username and password to the console using console.log().\n",
    "\n",
    "**Part 2:** Edit the `ChangeUsername()` function to accept a `newUsername` parameter, then set the `username` variable to the `newUsername` parameter.\n",
    "\n",
    "**Part 3:** Edit the `ChangePassword()` function to accept a `newPassword` parameter, then set the `password` variable to the `newPassword` parameter.\n",
    "\n",
    "**Part 4:** Make the `Login()` function check if the parameters `_username` and `_password` are equal to the `username` and `password` variables, then print out if the login succeeded or failed using console.log()."
   ]
  },
  {
   "cell_type": "code",
   "execution_count": null,
   "id": "ef977706",
   "metadata": {
    "vscode": {
     "languageId": "javascript"
    }
   },
   "outputs": [],
   "source": [
    "// put popcorn hack 1 code here:\n",
    "\n",
    "let username = \"Giuseppe\";\n",
    "let password = \"giuseppe_very_awesome_password\";\n",
    "\n",
    "// part 1\n",
    "function Account()\n",
    "{\n",
    "\n",
    "}\n",
    "\n",
    "// part 2\n",
    "function ChangeUsername()\n",
    "{\n",
    "\n",
    "}\n",
    "\n",
    "// part 3\n",
    "function ChangePassword()\n",
    "{\n",
    "\n",
    "}\n",
    "\n",
    "// part 4\n",
    "function Login(_username, _password)\n",
    "{\n",
    "\tif (/* check if equal */ && /* check if equal */)\n",
    "\t{\n",
    "\t\t// print out logged in succesfully\n",
    "\t\treturn true;\n",
    "\t}\n",
    "\telse\n",
    "\t{\n",
    "\t\t// print out log in failure\n",
    "\t\treturn false;\n",
    "\t}\n",
    "}\n",
    "\n"
   ]
  },
  {
   "cell_type": "markdown",
   "id": "a45fb3f1",
   "metadata": {},
   "source": [
    "---\n",
    "\n",
    "## <b>Popcorn Hack 2 (Progress Check)</b>\n",
    "\n",
    "Use the examples provided in the lesson if you're stuck.\n",
    "\n",
    "**Part 1:** Make a class named `House`\n",
    "\n",
    "**Part 2:** Make a constructor for the `House` class with the parameters cost, age, and size\n",
    "\n",
    "**Part 3:** Make an instance of the House class with the name myHouse and fill the parameters with any numbers you want.\n",
    "\n",
    "Write your code down here:"
   ]
  },
  {
   "cell_type": "code",
   "execution_count": null,
   "id": "bb7a40cf",
   "metadata": {
    "vscode": {
     "languageId": "javascript"
    }
   },
   "outputs": [],
   "source": [
    "// popcorn hack 2 code goes here:\n",
    "\n"
   ]
  },
  {
   "cell_type": "markdown",
   "id": "de48f604",
   "metadata": {},
   "source": [
    "---\n",
    "\n",
    "## <b>Final task</b>\n"
   ]
  },
  {
   "cell_type": "code",
   "execution_count": null,
   "id": "81c4882b",
   "metadata": {
    "vscode": {
     "languageId": "plaintext"
    }
   },
   "outputs": [],
   "source": []
  },
  {
   "cell_type": "markdown",
   "id": "7042352e",
   "metadata": {},
   "source": [
    "---\n",
    "\n",
    "<b>Grading</b>\n",
    "\n",
    "Popcorn Hack 1: Completion gives 0.2 points.<br/><br/>\n",
    "Popcorn Hack 2: Completion gives 0.3 points.<br/><br/>\n",
    "\n",
    "Final Task: Completion gives 0.5 points. Max of 0.02 extra points from extra work relevant to the subject or finishing assignment in a way that shows exceptional comprehension of the lesson.\n",
    "\n",
    "<br>\n",
    "you are win\n",
    "\n",
    "<a href=\"https://docs.google.com/forms/d/e/1FAIpQLSekRobtOPkiOqxddn2OppFw0pN2sEeVK87Z2bZFKx4Ief_4yA/viewform?usp=preview\"><b>Submission Google Form for Homework</b></a>"
   ]
  }
 ],
 "metadata": {
  "language_info": {
   "name": "python"
  }
 },
 "nbformat": 4,
 "nbformat_minor": 5
}

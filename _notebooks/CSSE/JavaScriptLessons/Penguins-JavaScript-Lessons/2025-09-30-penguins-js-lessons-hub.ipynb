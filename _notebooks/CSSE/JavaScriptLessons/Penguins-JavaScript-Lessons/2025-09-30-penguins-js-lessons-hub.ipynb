{
 "cells": [
  {
   "cell_type": "markdown",
   "id": "8fc36a2d",
   "metadata": {},
   "source": [
    "---\n",
    "layout: opencs\n",
    "data: js-lessons\n",
    "title: (JS)JavaScript Lessons Hub - Math Expressions & Data Abstraction\n",
    "permalink: /penguins/js-lessons\n",
    "---"
   ]
  },
  {
   "cell_type": "markdown",
   "id": "cc559d4c",
   "metadata": {},
   "source": [
    "## JavaScript Lessons Hub\n",
    "\n",
    "<img src=\"{{site.baseurl}}/images/Penguins-jslessons/Tux.png\"><br/><br/>\n",
    "\n",
    "### Lesson 1:\n",
    "<details>\n",
    "<summary>Mathematical Expressions</summary>\n",
    "<a href=\"{{site.baseurl}}/js-lessons/math-expressions\">Lesson</a> <br>\n",
    "<a href=\"{{site.baseurl}}/js-lessons/homework/math-expressions\">Homework</a> <br>\n",
    "<a href=\"https://github.com/Comp-Sci-Team/js-lesson_pages/blob/main/_notebooks/CSSE/JavaScriptLessons/Penguins-JavaScript-Lessons/Penguins-Mathematical-Expressions/2025-09-30-penguins-math-exp-hw.ipynb\" download><b>Download Homework</b></a> <br/>\n",
    "</details>\n",
    "\n",
    "<br>\n",
    "<br>\n",
    "\n",
    "### Lesson 2:\n",
    "<details>\n",
    "<summary>Data Abstraction</summary>\n",
    "<a href=\"url\">Lesson</a> <br>\n",
    "<a href=\"url\">Homework</a>\n",
    "</details>"
   ]
  }
 ],
 "metadata": {
  "language_info": {
   "name": "python"
  }
 },
 "nbformat": 4,
 "nbformat_minor": 5
}

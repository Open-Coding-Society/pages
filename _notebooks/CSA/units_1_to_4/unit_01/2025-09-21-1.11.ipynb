{
 "cells": [
  {
   "cell_type": "markdown",
   "id": "a9b42124",
   "metadata": {},
   "source": [
    "---\n",
    "layout: post\n",
    "toc: true\n",
    "title: Math Class\n",
    "menu: nav/CSA_Nunits/csaunit1.html\n",
    "permalink: /csa/unit_01/1_11\n",
    "author: Gurshawn, Anvay, Akshay\n",
    "---"
   ]
  },
  {
   "cell_type": "markdown",
   "id": "4f107a63",
   "metadata": {},
   "source": [
    "## What is the Math Class?\n",
    "The Math Class is a java.lang package used to perform mathmatical operations like exponential, logarithm, square root, and trigonometric functions."
   ]
  },
  {
   "cell_type": "markdown",
   "id": "733ddb87",
   "metadata": {},
   "source": [
    "## Important Methods\n"
   ]
  },
  {
   "cell_type": "markdown",
   "id": "58465895",
   "metadata": {},
   "source": [
    "## Homework Checklist:\n",
    "-Link to HW Page\n",
    "-Popcorn Hacks\n",
    "-Submission Link"
   ]
  }
 ],
 "metadata": {
  "language_info": {
   "name": "python"
  }
 },
 "nbformat": 4,
 "nbformat_minor": 5
}

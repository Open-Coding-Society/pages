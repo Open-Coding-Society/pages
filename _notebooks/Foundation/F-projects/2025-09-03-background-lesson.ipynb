{
 "cells": [
  {
   "cell_type": "raw",
   "id": "656dd848",
   "metadata": {
    "vscode": {
     "languageId": "raw"
    }
   },
   "source": [
    "---\n",
    "title: JS Background lesson \n",
    "description: Learn javascript and simple animation building a background with flying object.\n",
    "comments: false\n",
    "layout: post\n",
    "permalink: /background/lesson\n",
    "---"
   ]
  },
  {
   "cell_type": "markdown",
   "id": "07361a98",
   "metadata": {},
   "source": [
    "## Background \n",
    "\n",
    "A background and flying object start the brain thinking...\n",
    "\n",
    "- Can we add keys movements?\n",
    "- How about objects?\n",
    "- Flappy Bird?\n"
   ]
  },
  {
   "cell_type": "markdown",
   "id": "a176f6d8",
   "metadata": {},
   "source": [
    "## Code Overview\n",
    "\n",
    "Introduction to code TBD"
   ]
  },
  {
   "cell_type": "markdown",
   "id": "918e0d4f",
   "metadata": {},
   "source": [
    "## Hacks\n",
    "\n",
    "Hacks TBD\n",
    "\n"
   ]
  }
 ],
 "metadata": {
  "language_info": {
   "name": "python"
  }
 },
 "nbformat": 4,
 "nbformat_minor": 5
}
